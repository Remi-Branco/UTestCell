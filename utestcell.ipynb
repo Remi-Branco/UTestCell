{
  "nbformat": 4,
  "nbformat_minor": 0,
  "metadata": {
    "colab": {
      "name": "utestcell.ipynb",
      "provenance": [],
      "collapsed_sections": [],
      "authorship_tag": "ABX9TyPqqGDdo28U4uhig0jn6mgH",
      "include_colab_link": true
    },
    "kernelspec": {
      "name": "python3",
      "display_name": "Python 3"
    },
    "language_info": {
      "name": "python"
    }
  },
  "cells": [
    {
      "cell_type": "markdown",
      "metadata": {
        "id": "view-in-github",
        "colab_type": "text"
      },
      "source": [
        "<a href=\"https://colab.research.google.com/github/Remi-Branco/UTestCell/blob/main/utestcell.ipynb\" target=\"_parent\"><img src=\"https://colab.research.google.com/assets/colab-badge.svg\" alt=\"Open In Colab\"/></a>"
      ]
    },
    {
      "cell_type": "markdown",
      "metadata": {
        "id": "kIMvGt0kSUeS"
      },
      "source": [
        "Install and activate magic function for this notebook"
      ]
    },
    {
      "cell_type": "code",
      "metadata": {
        "colab": {
          "base_uri": "https://localhost:8080/"
        },
        "id": "wCCGJbY2995e",
        "outputId": "3fd46c03-5d70-4c76-8045-f095922230af"
      },
      "source": [
        "!pip install utestcell\n",
        "%load_ext utestcell"
      ],
      "execution_count": 1,
      "outputs": [
        {
          "output_type": "stream",
          "text": [
            "Requirement already satisfied: utestcell in /usr/local/lib/python3.7/dist-packages (0.0.13)\n"
          ],
          "name": "stdout"
        }
      ]
    },
    {
      "cell_type": "markdown",
      "metadata": {
        "id": "mteUJEMgTHVV"
      },
      "source": [
        "Store the url containing the unit test (.py file)\n",
        "\n",
        "`%%utestcell -ur:$url -v` will download utest.py and run the tests in verbose"
      ]
    },
    {
      "cell_type": "code",
      "metadata": {
        "id": "SMqviqUg-WoK"
      },
      "source": [
        "url = 'https://raw.githubusercontent.com/Remi-Branco/UTestCell/main/utest.py' #must use the 'raw'link on top of the page !"
      ],
      "execution_count": 2,
      "outputs": []
    },
    {
      "cell_type": "markdown",
      "metadata": {
        "id": "8UNo-Lz6SO7U"
      },
      "source": [
        "Add the following line to the top of the cell to download the test file from Github (`-u:$url`), run the tests in verbose mode (`-v`), and save the concatenated code (cell + unit test) on the local machine (`-t:code.py`)\n",
        "\n",
        "```\n",
        "%%utestcell -u:$url -v -c:code.py\n",
        "```\n",
        "\n",
        "\n",
        "\n",
        "Optional parameters: \n",
        "\n",
        "*   `-u:` url of your unittest.py file using\n",
        "*   `-v:` run unittests in verbose mode\n",
        "*   `-c:` rename concatenated file (saved on local machine\n",
        "*   `-ur:`(and `-tr:`) can be used instead of `-u:` (or `-t:`) to replace\n",
        "*   `-t:` name of .py test file on local machine\n",
        " unittest.py file each time the cell is run."
      ]
    },
    {
      "cell_type": "code",
      "metadata": {
        "colab": {
          "base_uri": "https://localhost:8080/"
        },
        "id": "IArNO32O9-Fk",
        "outputId": "87dfd18b-857b-4dbe-c678-c252a613be7f"
      },
      "source": [
        "%%utestcell -u:$url -c:code.py\n",
        "\n",
        "def square(number):\n",
        "    \"\"\"(int) -> int\n",
        "    \"\"\"\n",
        "    return number**2\n",
        "\n",
        "def reverso(word):\n",
        "    \"\"\"returns a word in reverse order\"\"\"\n",
        "    return word[::-1]\n",
        "\n",
        "def n_letters_is_5(word):\n",
        "    \"\"\"tests if number of letters is 5\"\"\"\n",
        "    return len(word)==5"
      ],
      "execution_count": 3,
      "outputs": [
        {
          "output_type": "stream",
          "text": [
            "...\n",
            "----------------------------------------------------------------------\n",
            "Ran 3 tests in 0.004s\n",
            "\n",
            "OK\n"
          ],
          "name": "stderr"
        }
      ]
    },
    {
      "cell_type": "markdown",
      "metadata": {
        "id": "LoHrALfABwvz"
      },
      "source": [
        "# Using local unit tests"
      ]
    },
    {
      "cell_type": "markdown",
      "metadata": {
        "id": "6jpU-6YCB0C4"
      },
      "source": [
        "utestcell will use any utest.py stored locally when no parameter is passed"
      ]
    },
    {
      "cell_type": "code",
      "metadata": {
        "colab": {
          "base_uri": "https://localhost:8080/"
        },
        "id": "N1Hx7h6bJ5PX",
        "outputId": "04feb42b-c0a2-4507-bb12-b8dc9859ffa7"
      },
      "source": [
        "%%utestcell\n",
        "\n",
        "def square(number):\n",
        "    \"\"\"(int) -> int\n",
        "    \"\"\"\n",
        "    return number**2\n",
        "\n",
        "def reverso(word):\n",
        "    \"\"\"returns a word in reverse order\"\"\"\n",
        "    return word[::-1]\n",
        "\n",
        "def n_letters_is_5(word):\n",
        "    \"\"\"tests if number of letters is 5\"\"\"\n",
        "    return len(word)==5"
      ],
      "execution_count": 4,
      "outputs": [
        {
          "output_type": "stream",
          "text": [
            "...\n",
            "----------------------------------------------------------------------\n",
            "Ran 3 tests in 0.007s\n",
            "\n",
            "OK\n"
          ],
          "name": "stderr"
        }
      ]
    },
    {
      "cell_type": "markdown",
      "metadata": {
        "id": "KTyHXjB3Kvxc"
      },
      "source": [
        "Multiple test files can coexist be used inside a notebook.  In the following cells we first create the unit test file `utest2.py` and run the tests using it."
      ]
    },
    {
      "cell_type": "code",
      "metadata": {
        "colab": {
          "base_uri": "https://localhost:8080/"
        },
        "id": "B94dFWZhB-ZQ",
        "outputId": "50594551-bd98-40c4-d615-89e2ef3b6e64"
      },
      "source": [
        "%%writefile utest_v2.py\n",
        "\n",
        "import unittest\n",
        "\n",
        "class TestStringMethods(unittest.TestCase):\n",
        "\n",
        "    def test_reverso_v2(self):\n",
        "        self.assertEqual(reverso(\"Remi\"), 'imeR')\n",
        "        self.assertEqual(reverso(\"\"), '' )\n",
        "\n",
        "    \n",
        "    def test_square_v2(self):\n",
        "        self.assertEqual(square(4), 16)\n",
        "        with  self.assertRaises(TypeError):\n",
        "            square('') #need to be in a context manager for the test to fail and be accepted as such\n",
        "\n",
        "    def test_n_letters_is_5_v2(self):\n",
        "        self.assertEqual(n_letters_is_5('Remi'),False)\n",
        "        self.assertEqual(n_letters_is_5('Maz'), False)\n",
        "        self.assertEqual(n_letters_is_5('abcde'), True) \n",
        "            \n",
        "if __name__ == '__main__':  \n",
        "    unittest.main()"
      ],
      "execution_count": 13,
      "outputs": [
        {
          "output_type": "stream",
          "text": [
            "Overwriting utest_v2.py\n"
          ],
          "name": "stdout"
        }
      ]
    },
    {
      "cell_type": "code",
      "metadata": {
        "colab": {
          "base_uri": "https://localhost:8080/"
        },
        "id": "6HSb-EOHLS4L",
        "outputId": "dfef7d4a-d3f5-4cb1-c475-dbd2409e5d67"
      },
      "source": [
        "%%utestcell -t:utest_v2.py -v\n",
        "\n",
        "def square(number):\n",
        "    \"\"\"(int) -> int\n",
        "    \"\"\"\n",
        "    return number**2\n",
        "\n",
        "def reverso(word):\n",
        "    \"\"\"returns a word in reverse order\"\"\"\n",
        "    return word[::-1]\n",
        "\n",
        "def n_letters_is_5(word):\n",
        "    \"\"\"tests if number of letters is 5\"\"\"\n",
        "    return len(word)==5"
      ],
      "execution_count": 14,
      "outputs": [
        {
          "output_type": "stream",
          "text": [
            "test_n_letters_is_5_v2 (__main__.TestStringMethods) ... ok\n",
            "test_reverso_v2 (__main__.TestStringMethods) ... ok\n",
            "test_square_v2 (__main__.TestStringMethods) ... ok\n",
            "\n",
            "----------------------------------------------------------------------\n",
            "Ran 3 tests in 0.005s\n",
            "\n",
            "OK\n"
          ],
          "name": "stderr"
        }
      ]
    },
    {
      "cell_type": "markdown",
      "metadata": {
        "id": "AB7Fcn6mPwix"
      },
      "source": [
        "Note that the tests were ran against `utest_v2.py`."
      ]
    }
  ]
}