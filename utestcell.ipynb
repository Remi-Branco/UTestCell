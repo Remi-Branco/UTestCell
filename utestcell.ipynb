{
  "nbformat": 4,
  "nbformat_minor": 0,
  "metadata": {
    "colab": {
      "name": "utestcell.ipynb",
      "provenance": [],
      "collapsed_sections": [],
      "authorship_tag": "ABX9TyMbLuMehFEy+TeuqLBNQGqv",
      "include_colab_link": true
    },
    "kernelspec": {
      "name": "python3",
      "display_name": "Python 3"
    },
    "language_info": {
      "name": "python"
    }
  },
  "cells": [
    {
      "cell_type": "markdown",
      "metadata": {
        "id": "view-in-github",
        "colab_type": "text"
      },
      "source": [
        "<a href=\"https://colab.research.google.com/github/Remi-Branco/UTestCell/blob/main/utestcell.ipynb\" target=\"_parent\"><img src=\"https://colab.research.google.com/assets/colab-badge.svg\" alt=\"Open In Colab\"/></a>"
      ]
    },
    {
      "cell_type": "markdown",
      "metadata": {
        "id": "kIMvGt0kSUeS"
      },
      "source": [
        "Run the cell to activate magic for notebook"
      ]
    },
    {
      "cell_type": "code",
      "metadata": {
        "id": "ISZ3D-8USC5R"
      },
      "source": [
        "from IPython.core.magic import register_cell_magic\n",
        "\n",
        "@register_cell_magic\n",
        "def utestcell(line, cell):\n",
        "    \"\"\"Read the current cell's content, concatenate it with unittests to .py file and run unittests\n",
        "    optional arguments:\n",
        "    \n",
        "      -c (concatenated file) : (str)\n",
        "          name of the file (default : code.py) containing a cell's code with \n",
        "          the unittests appended to it\n",
        "      -v (verbose) \n",
        "          -v parameter passed to unittest module (verbosity of tests)\n",
        "      -u (url) : (str)\n",
        "          url of unittest (e.g Raw link on Github)\n",
        "      -ur (url + replace): (str)\n",
        "          same as above + erase unittest and redownload before running tests (useful to obtain latest version)\n",
        "      -t : (str)\n",
        "          .py file containing the unittests on local machine\n",
        "      -tr : (str)\n",
        "          same as above + erase unittest before running tests (useful to obtain latest version)\n",
        "    \"\"\"\n",
        "\n",
        "    from os.path import exists\n",
        "    from time import sleep\n",
        "\n",
        "    line = line.strip() #to remove any white spaces before/trailing\n",
        "    \n",
        "    verbose = False\n",
        "    fname = 'code.py' #default name\n",
        "    url = ''\n",
        "    replace_unittest = False\n",
        "    utest = 'utest.py'\n",
        "\n",
        "    for p in line.split(\" \"): #go through the paraneters passed (can be passed in any order)\n",
        "        #print(\"p:\",p)\n",
        "        if p.strip() == '-v':\n",
        "            verbose = True\n",
        "            \n",
        "        elif p.strip()[0:3] == '-c:': #for concatenated (filename of concatenated .py file)\n",
        "            fname = p.strip()[3:]\n",
        "            \n",
        "        elif p.strip()[0:3] == '-u:': #u for url\n",
        "                url = p.strip()[3:]\n",
        "        elif p.strip()[0:4] == '-ur:': #u for url\n",
        "                url = p.strip()[4:]\n",
        "                replace_unittest = True\n",
        "\n",
        "        elif p.strip()[0:3] == '-t:': #t for test/unittest\n",
        "                utestname = p.strip()[3:]\n",
        "\n",
        "        elif p.strip()[0:4] == '-tr:': #t for test/unittest and r for replace i.e download each time\n",
        "                utestname = p.strip()[4:]\n",
        "                replace_unittest = True\n",
        "\n",
        "    #remove fname if it already exists to avoid errors\n",
        "    while exists(fname):\n",
        "        if exists(fname):\n",
        "            #remove fname\n",
        "            %rm $fname\n",
        "            sleep(0.001)\n",
        "\n",
        "    #if we have a parameter starting with '-u:' and the file named utest.py doesn't already exist \n",
        "    # then download the unittest from the url\n",
        "    if url != '':\n",
        "        #test if file already exists, from url this is the last string after last \\ character\n",
        "        utest = url.split('/')[-1]\n",
        "        if replace_unittest == True and exists(utest) : #remove utest.py\n",
        "            %rm $utest\n",
        "            sleep(0.001)\n",
        "        if not exists(utest):\n",
        "            #download file\n",
        "            import requests\n",
        "            r = requests.get(url, allow_redirects=False)\n",
        "            with open(utest, 'wb') as f:\n",
        "                f.write(r.content)\n",
        "\n",
        "        \n",
        "    #open the cell's and unittests contents (if it exists), concatenate them and save in fname\n",
        "    with  open(fname, 'wt') as fd:  \n",
        "        #first save content of cell in file 'fname'\n",
        "        fd.write(cell)\n",
        "        #next append the unittests if utest.py exists\n",
        "        if exists(utest):\n",
        "            with open(utest, 'rt') as u:\n",
        "                fd.write(u.read()) #here use .read() as unittest is a pointer\n",
        "    \n",
        "    while not exists(fname): #need to wait until the file exists.\n",
        "        sleep(0.001)\n",
        "\n",
        "    #run the python file with cell's content along with utest file, in verbose mode by default,\n",
        "    if '-v' in line.split(\" \"):\n",
        "        %run $fname -v\n",
        "    else:\n",
        "        %run $fname"
      ],
      "execution_count": 1,
      "outputs": []
    },
    {
      "cell_type": "markdown",
      "metadata": {
        "id": "6PXgH_yzTVmQ"
      },
      "source": [
        "To unittest using utest.py file located on local machine simply run `%%utestcell` (a file called utest.py must exist)"
      ]
    },
    {
      "cell_type": "code",
      "metadata": {
        "colab": {
          "base_uri": "https://localhost:8080/"
        },
        "id": "yXUqwHMUTVaH",
        "outputId": "b90f89a7-079f-4f67-b2df-298fdb7f995f"
      },
      "source": [
        "%%utestcell\n",
        "\n",
        "def square(number):\n",
        "    \"\"\"(int) -> int\n",
        "    \"\"\"\n",
        "    return number**2\n",
        "\n",
        "def reverso(word):\n",
        "    \"\"\"returns a word in reverse order\"\"\"\n",
        "    return word[::-1]\n",
        "\n",
        "def n_letters_is_5(word):\n",
        "    \"\"\"tests if number of letters is 5\"\"\"\n",
        "    return len(word)==5"
      ],
      "execution_count": 7,
      "outputs": [
        {
          "output_type": "stream",
          "text": [
            "...\n",
            "----------------------------------------------------------------------\n",
            "Ran 3 tests in 0.008s\n",
            "\n",
            "OK\n"
          ],
          "name": "stderr"
        }
      ]
    },
    {
      "cell_type": "markdown",
      "metadata": {
        "id": "8UNo-Lz6SO7U"
      },
      "source": [
        "Optional parameters: \n",
        "\n",
        "*   `-u:` pass a url to your unittest.py file using \n",
        "*   `-v:` run unittests in verbose mode\n",
        "*   `-t:` rename concatenated file (saved on local machine\n",
        "*   `-ur:` (and `-tr:`) can be used instead of `-u:` (or `-u:`) to replace unittest.py file each time the cell is run."
      ]
    },
    {
      "cell_type": "markdown",
      "metadata": {
        "id": "mteUJEMgTHVV"
      },
      "source": [
        "Store the url containing the unit test (.py file)\n",
        "\n",
        "`%%utestcell -ur:$url -v` will download utest.py and run the tests in verbose"
      ]
    },
    {
      "cell_type": "code",
      "metadata": {
        "id": "B1X3gt21TQ-a"
      },
      "source": [
        "url = 'https://raw.githubusercontent.com/Remi-Branco/UTestCell/main/utest.py' #must use the 'raw'link on top of the page !"
      ],
      "execution_count": 5,
      "outputs": []
    },
    {
      "cell_type": "code",
      "metadata": {
        "colab": {
          "base_uri": "https://localhost:8080/"
        },
        "id": "dzHTJ2UasSLk",
        "outputId": "8ccb94cc-96dc-440d-d64b-f83ba0bc57c9"
      },
      "source": [
        "%%utestcell -ur:$url -v\n",
        "\n",
        "def square(number):\n",
        "    \"\"\"(int) -> int\n",
        "    \"\"\"\n",
        "    return number**2\n",
        "\n",
        "def reverso(word):\n",
        "    \"\"\"returns a word in reverse order\"\"\"\n",
        "    return word[::-1]\n",
        "\n",
        "def n_letters_is_5(word):\n",
        "    \"\"\"tests if number of letters is 5\"\"\"\n",
        "    return len(word)==5"
      ],
      "execution_count": 9,
      "outputs": [
        {
          "output_type": "stream",
          "text": [
            "test_n_letters_is_5 (__main__.TestStringMethods) ... ok\n",
            "test_reverso (__main__.TestStringMethods) ... ok\n",
            "test_square (__main__.TestStringMethods) ... ok\n",
            "\n",
            "----------------------------------------------------------------------\n",
            "Ran 3 tests in 0.011s\n",
            "\n",
            "OK\n"
          ],
          "name": "stderr"
        }
      ]
    }
  ]
}